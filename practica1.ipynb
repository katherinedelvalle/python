{
 "cells": [
  {
   "cell_type": "markdown",
   "id": "7089a482",
   "metadata": {},
   "source": [
    "PYTHON\n",
    "TAREA 1"
   ]
  },
  {
   "cell_type": "code",
   "execution_count": 2,
   "id": "e0299907-0e38-4edb-bd96-4f858c9f42a3",
   "metadata": {},
   "outputs": [],
   "source": [
    "import os\n",
    "import pandas"
   ]
  },
  {
   "cell_type": "code",
   "execution_count": 3,
   "id": "f5d6b37a",
   "metadata": {},
   "outputs": [
    {
     "name": "stdout",
     "output_type": "stream",
     "text": [
      "Soy  Katherine Del Valle tengo  32  años\n"
     ]
    }
   ],
   "source": [
    "nombre='Katherine Del Valle'\n",
    "edad= 32\n",
    "print(\"Soy \",str(nombre),\"tengo \",str(edad),\" años\")"
   ]
  }
 ],
 "metadata": {
  "kernelspec": {
   "display_name": "Python 3 (ipykernel)",
   "language": "python",
   "name": "python3"
  },
  "language_info": {
   "codemirror_mode": {
    "name": "ipython",
    "version": 3
   },
   "file_extension": ".py",
   "mimetype": "text/x-python",
   "name": "python",
   "nbconvert_exporter": "python",
   "pygments_lexer": "ipython3",
   "version": "3.11.5"
  }
 },
 "nbformat": 4,
 "nbformat_minor": 5
}
